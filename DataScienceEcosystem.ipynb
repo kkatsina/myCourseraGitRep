{
  "nbformat": 4,
  "nbformat_minor": 0,
  "metadata": {
    "colab": {
      "provenance": []
    },
    "kernelspec": {
      "name": "python3",
      "display_name": "Python 3"
    },
    "language_info": {
      "name": "python"
    }
  },
  "cells": [
    {
      "cell_type": "markdown",
      "source": [
        "Exercise 2: Create markdown cell with title of the notebook\n",
        "\n",
        "#Data Science Tools and Ecosystem\n",
        "\n"
      ],
      "metadata": {
        "id": "4RbXGRC70gB6"
      }
    },
    {
      "cell_type": "markdown",
      "source": [
        "Exercise 3 - Create a markdown cell for an introduction\n",
        "\n",
        "##In this notebook, Data Science Tools and Ecosystem are summarized."
      ],
      "metadata": {
        "id": "EF8CVGmR1MYe"
      }
    },
    {
      "cell_type": "markdown",
      "source": [
        "Exercise 10 - Insert a markdown cell to list Objectives\n",
        "\n",
        "####**Objectives:**\n",
        "\n",
        "\n",
        "*   List some of the popular languages that Data Scientists use\n",
        "*   List some of the commonly used libraries by Data Scientists\n",
        "*   Create a table of data science tools\n",
        "*   Perform arithmetic expressions in python\n",
        "\n"
      ],
      "metadata": {
        "id": "D_EdfFUtDvXb"
      }
    },
    {
      "cell_type": "markdown",
      "source": [
        "Exercise 4 - Create a markdown cell to list data science languages\n",
        "\n",
        "###Some of the popular languages that Data Scientists use are:\n",
        "1. Python\n",
        "2. R\n",
        "3. SQL"
      ],
      "metadata": {
        "id": "rjWIxae92CQV"
      }
    },
    {
      "cell_type": "markdown",
      "source": [
        "Exercise 5 - Create a markdown cell to list data science libraries\n",
        "\n",
        "###Some of the commonly used libraries used by Data Scientists include:\n",
        "1. Pandas\n",
        "2. NumPy\n",
        "3. Scikit-learn\n",
        "4. TensorFlow\n",
        "5. Matplotlib"
      ],
      "metadata": {
        "id": "f95sM2rG3SIR"
      }
    },
    {
      "cell_type": "markdown",
      "source": [
        "Exercise 6 - Create a markdown cell with a table of Data Science tools\n",
        "\n",
        "|Data Science Tools|\n",
        "|------------------|\n",
        "|Jupyter Notebook|\n",
        "|RStudio|\n",
        "|Google Colab|"
      ],
      "metadata": {
        "id": "rWuNVvdT4v7P"
      }
    },
    {
      "cell_type": "markdown",
      "source": [
        "Exercise 7 - Create a markdown cell introducing arithmetic expression examples\n",
        "###Below are a few examples of evaluating arithmetic expressions in Python"
      ],
      "metadata": {
        "id": "YEtydthrAUiG"
      }
    },
    {
      "cell_type": "markdown",
      "source": [
        "Exercise 8 - Create a code cell to multiply and add numbers"
      ],
      "metadata": {
        "id": "EdKL6xH4BPN-"
      }
    },
    {
      "cell_type": "code",
      "execution_count": 1,
      "metadata": {
        "colab": {
          "base_uri": "https://localhost:8080/"
        },
        "id": "d92h7hEQ0DDL",
        "outputId": "cb60b78f-400e-4c82-e3a1-77248d3bcf58"
      },
      "outputs": [
        {
          "output_type": "execute_result",
          "data": {
            "text/plain": [
              "17"
            ]
          },
          "metadata": {},
          "execution_count": 1
        }
      ],
      "source": [
        "#This a simple arithmetic expression to mutiply then add integers\n",
        "(3*4)+5"
      ]
    },
    {
      "cell_type": "markdown",
      "source": [
        "Exercise 9 - Create a code cell to convert minutes to hours"
      ],
      "metadata": {
        "id": "kJ8C_tKYBliK"
      }
    },
    {
      "cell_type": "code",
      "source": [
        "#This will convert 200 minutes to hours by diving by 60\n",
        "minutes = 200\n",
        "hours = minutes/60\n",
        "print (hours)"
      ],
      "metadata": {
        "colab": {
          "base_uri": "https://localhost:8080/"
        },
        "id": "Pygd5EtDBnRt",
        "outputId": "5f25bdb9-9fe8-4c59-9c03-c0414ccbf0ab"
      },
      "execution_count": 3,
      "outputs": [
        {
          "output_type": "stream",
          "name": "stdout",
          "text": [
            "3.3333333333333335\n"
          ]
        }
      ]
    },
    {
      "cell_type": "markdown",
      "source": [
        "Exercise 11 - Create a markdown cell to indicate the Author's name\n",
        "\n",
        "## Author:\n",
        "Komli - Kofi Atsina"
      ],
      "metadata": {
        "id": "lKUZgrgqFT6n"
      }
    }
  ]
}